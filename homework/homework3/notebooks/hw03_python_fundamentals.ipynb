{
 "cells": [
  {
   "cell_type": "code",
   "execution_count": null,
   "id": "b90efe4f",
   "metadata": {},
   "outputs": [],
   "source": [
    "import numpy as np\n",
    "import pandas as pd\n",
    "import matplotlib.pyplot as plt\n",
    "from datetime import datetime\n",
    "import time\n",
    "from pathlib import Path"
   ]
  },
  {
   "cell_type": "code",
   "execution_count": 19,
   "id": "de061368",
   "metadata": {},
   "outputs": [
    {
     "name": "stdout",
     "output_type": "stream",
     "text": [
      "Loop time: 0.06546616554260254\n",
      "NumPy time: 0.0008449554443359375\n"
     ]
    }
   ],
   "source": [
    "N = 1_000_000\n",
    "arr = np.arange(N)\n",
    "\n",
    "start = time.time()\n",
    "squared_loop = [x**2 for x in arr]\n",
    "end = time.time()\n",
    "print(\"Loop time:\", end-start)\n",
    "\n",
    "start = time.time()\n",
    "squared_np = arr ** 2\n",
    "end = time.time()\n",
    "print(\"NumPy time:\", end-start)"
   ]
  },
  {
   "cell_type": "code",
   "execution_count": 20,
   "id": "6a497699",
   "metadata": {},
   "outputs": [
    {
     "name": "stdout",
     "output_type": "stream",
     "text": [
      "<class 'pandas.core.frame.DataFrame'>\n",
      "RangeIndex: 10 entries, 0 to 9\n",
      "Data columns (total 3 columns):\n",
      " #   Column    Non-Null Count  Dtype \n",
      "---  ------    --------------  ----- \n",
      " 0   category  10 non-null     object\n",
      " 1   value     10 non-null     int64 \n",
      " 2   date      10 non-null     object\n",
      "dtypes: int64(1), object(2)\n",
      "memory usage: 372.0+ bytes\n",
      "None\n",
      "  category  value        date\n",
      "0        A     10  2025-08-01\n",
      "1        B     15  2025-08-02\n",
      "2        A     12  2025-08-03\n",
      "3        B     18  2025-08-04\n",
      "4        C     25  2025-08-05\n"
     ]
    }
   ],
   "source": [
    "df = pd.read_csv(\"../data/starter_data.csv\")\n",
    "print(df.info())\n",
    "print(df.head())"
   ]
  },
  {
   "cell_type": "code",
   "execution_count": 23,
   "id": "d1ef920b",
   "metadata": {},
   "outputs": [
    {
     "name": "stdout",
     "output_type": "stream",
     "text": [
      "           value\n",
      "count  10.000000\n",
      "mean   17.600000\n",
      "std     7.381659\n",
      "min    10.000000\n",
      "25%    12.250000\n",
      "50%    14.500000\n",
      "75%    23.250000\n",
      "max    30.000000\n",
      "  category  mean_value\n",
      "0        A   11.500000\n",
      "1        B   15.666667\n",
      "2        C   27.666667\n"
     ]
    }
   ],
   "source": [
    "summary = df.describe()\n",
    "print(summary)\n",
    "group = df.groupby(\"category\")[\"value\"].mean().reset_index(name=\"mean_value\")\n",
    "print(group)"
   ]
  },
  {
   "cell_type": "code",
   "execution_count": 34,
   "id": "d9f20913",
   "metadata": {},
   "outputs": [],
   "source": [
    "path = Path(\"../data/processed\")\n",
    "summary.to_csv(path / \"summary.csv\", index=True)\n",
    "group.to_csv(path / \"groupby_summary.csv\", index=False)\n",
    "#bonus\n",
    "ax = df[\"value\"].hist()\n",
    "ax.set_title(\"Distribution of value\")\n",
    "ax.set_xlabel(\"value\"); ax.set_ylabel(\"count\")\n",
    "plt.tight_layout()\n",
    "plt.savefig(path / \"histogram.png\")\n",
    "plt.close()\n",
    "plt.show()"
   ]
  },
  {
   "cell_type": "code",
   "execution_count": 35,
   "id": "e1544807",
   "metadata": {},
   "outputs": [],
   "source": [
    "def get_summary_stats(df):\n",
    "    return df.describe()\n"
   ]
  }
 ],
 "metadata": {
  "kernelspec": {
   "display_name": "base",
   "language": "python",
   "name": "python3"
  },
  "language_info": {
   "codemirror_mode": {
    "name": "ipython",
    "version": 3
   },
   "file_extension": ".py",
   "mimetype": "text/x-python",
   "name": "python",
   "nbconvert_exporter": "python",
   "pygments_lexer": "ipython3",
   "version": "3.12.7"
  }
 },
 "nbformat": 4,
 "nbformat_minor": 5
}
